{
 "cells": [
  {
   "cell_type": "markdown",
   "metadata": {},
   "source": [
    "## "
   ]
  },
  {
   "cell_type": "markdown",
   "metadata": {},
   "source": [
    "## Challenge 1: Tuples\n",
    "\n",
    "#### Do you know you can create tuples with only one element?\n",
    "\n",
    "**In the cell below, define a variable `tup` with a single element `\"I\"`.**\n"
   ]
  },
  {
   "cell_type": "code",
   "execution_count": 1,
   "metadata": {},
   "outputs": [
    {
     "name": "stdout",
     "output_type": "stream",
     "text": [
      "('I',)\n"
     ]
    }
   ],
   "source": [
    "# Your code here\n",
    "\n",
    "# Define the tuple\n",
    "tup = (\"I\",) #To create a tuple wit a single element, you must include a comma after the element\n",
    "\n",
    "# Print the tuple\n",
    "print(tup)"
   ]
  },
  {
   "cell_type": "markdown",
   "metadata": {},
   "source": [
    "#### Print the type of `tup`. \n",
    "\n",
    "Make sure its type is correct (i.e. *tuple* instead of *str*)."
   ]
  },
  {
   "cell_type": "code",
   "execution_count": 3,
   "metadata": {},
   "outputs": [
    {
     "name": "stdout",
     "output_type": "stream",
     "text": [
      "<class 'tuple'>\n"
     ]
    }
   ],
   "source": [
    "# Your code here\n",
    "# Print the type of the variable\n",
    "print(type(tup))  # This should print <class 'tuple'>"
   ]
  },
  {
   "cell_type": "markdown",
   "metadata": {},
   "source": [
    "#### Now try to append the following elements to `tup`. \n",
    "\n",
    "Are you able to do it? Explain.\n",
    "\n",
    "```\n",
    "\"r\", \"o\", \"n\", \"h\", \"a\", \"c\", \"k',\n",
    "```"
   ]
  },
  {
   "cell_type": "code",
   "execution_count": 5,
   "metadata": {
    "scrolled": true
   },
   "outputs": [
    {
     "name": "stdout",
     "output_type": "stream",
     "text": [
      "Error: 'tuple' object has no attribute 'append'\n"
     ]
    }
   ],
   "source": [
    "# Your code here\n",
    "\n",
    "# Attempt to append elements\n",
    "try:\n",
    "    tup.append(\"r\")  # This will cause an AttributeError\n",
    "except AttributeError as e:\n",
    "    print(f\"Error: {e}\")\n"
   ]
  },
  {
   "cell_type": "markdown",
   "metadata": {},
   "source": [
    "### **Explanation**\n",
    "**Why does this happen?**  \n",
    "Tuples are **immutable**, meaning their contents cannot be changed after creation. The `append` method is a list operation and does not exist for tuples. When you try to use `append` on a tuple, Python raises an `AttributeError` because the method is not available for tuples.\n",
    "\n",
    "**What can you do instead?**  \n",
    "If you need to add elements, you can:\n",
    "1. Convert the tuple to a list.\n",
    "2. Append the new elements to the list.\n",
    "3. Convert the list back to a tuple."
   ]
  },
  {
   "cell_type": "code",
   "execution_count": 7,
   "metadata": {},
   "outputs": [
    {
     "name": "stdout",
     "output_type": "stream",
     "text": [
      "('I', 'r', 'o', 'n', 'h', 'a', 'c', 'k')\n"
     ]
    }
   ],
   "source": [
    "#Example of how to work around the immutability:\n",
    "\n",
    "# Convert the tuple to a list, modify it, and convert back to a tuple\n",
    "tup = (\"I\",)\n",
    "temp_list = list(tup)\n",
    "temp_list.extend([\"r\", \"o\", \"n\", \"h\", \"a\", \"c\", \"k\"])\n",
    "tup = tuple(temp_list)\n",
    "\n",
    "# Print the modified tuple\n",
    "print(tup)  # Output: ('I', 'r', 'o', 'n', 'h', 'a', 'c', 'k')"
   ]
  },
  {
   "cell_type": "markdown",
   "metadata": {},
   "source": [
    "#### How about re-assign a new value to an existing tuple?\n",
    "\n",
    "Re-assign the following elements to `tup`. Are you able to do it? Explain.\n",
    "\n",
    "```\n",
    "\"I\", \"r\", \"o\", \"n\", \"h\", \"a\", \"c\", \"k\"\n",
    "```"
   ]
  },
  {
   "cell_type": "code",
   "execution_count": 9,
   "metadata": {},
   "outputs": [
    {
     "name": "stdout",
     "output_type": "stream",
     "text": [
      "('I', 'r', 'o', 'n', 'h', 'a', 'c', 'k')\n"
     ]
    }
   ],
   "source": [
    "# Your code here\n",
    "\n",
    "# Original tuple\n",
    "tup = (\"I\",)\n",
    "\n",
    "# Re-assign a new value to the variable `tup`\n",
    "# Explanation: You can re-assign a new tuple to the variable `tup`, but you cannot modify the original tuple.\n",
    "tup = (\"I\", \"r\", \"o\", \"n\", \"h\", \"a\", \"c\", \"k\")\n",
    "\n",
    "# Print the new tuple\n",
    "print(tup)  # Output: ('I', 'r', 'o', 'n', 'h', 'a', 'c', 'k')\n",
    "\n"
   ]
  },
  {
   "cell_type": "markdown",
   "metadata": {},
   "source": [
    "#### Split `tup` into `tup1` and `tup2` with 4 elements in each. \n",
    "\n",
    "`tup1` should be `(\"I\", \"r\", \"o\", \"n\")` and `tup2` should be `(\"h\", \"a\", \"c\", \"k\")`.\n",
    "\n",
    "*Hint: use positive index numbers for `tup1` assignment and use negative index numbers for `tup2` assignment. Positive index numbers count from the beginning whereas negative index numbers count from the end of the sequence.*\n",
    "\n",
    "Also print `tup1` and `tup2`."
   ]
  },
  {
   "cell_type": "code",
   "execution_count": 11,
   "metadata": {},
   "outputs": [
    {
     "name": "stdout",
     "output_type": "stream",
     "text": [
      "tup1: ('I', 'r', 'o', 'n')\n",
      "tup2: ('h', 'a', 'c', 'k')\n"
     ]
    }
   ],
   "source": [
    "# Your code here\n",
    "\n",
    "# Original tuple\n",
    "tup = (\"I\", \"r\", \"o\", \"n\", \"h\", \"a\", \"c\", \"k\")\n",
    "\n",
    "# Create tup1 using positive indexing\n",
    "tup1 = tup[0:4]  # Elements from index 0 to 3 (inclusive of 0, exclusive of 4)\n",
    "\n",
    "# Create tup2 using negative indexing\n",
    "tup2 = tup[-4:]  # Last 4 elements\n",
    "\n",
    "# Print the new tuples\n",
    "print(\"tup1:\", tup1)  # Output: ('I', 'r', 'o', 'n')\n",
    "print(\"tup2:\", tup2)  # Output: ('h', 'a', 'c', 'k')"
   ]
  },
  {
   "cell_type": "markdown",
   "metadata": {},
   "source": [
    "#### Add `tup1` and `tup2` into `tup3` using the `+` operator.\n",
    "\n",
    "Then print `tup3` and check if `tup3` equals to `tup`."
   ]
  },
  {
   "cell_type": "code",
   "execution_count": 13,
   "metadata": {},
   "outputs": [
    {
     "name": "stdout",
     "output_type": "stream",
     "text": [
      "tup3: ('I', 'r', 'o', 'n', 'h', 'a', 'c', 'k')\n",
      "The tuples are equal\n"
     ]
    }
   ],
   "source": [
    "# Your code here\n",
    "\n",
    "#Add tup 1 and tup2 into tup3\n",
    "tup3 = tup1 + tup2\n",
    "\n",
    "#Print the resulting tuple\n",
    "print(\"tup3:\",tup3)\n",
    "\n",
    "#Check if tup3 is equal to tup\n",
    "if tup3==tup:\n",
    "    print(\"The tuples are equal\")\n",
    "else: \n",
    "    print(\"The tuples are not equal\")"
   ]
  },
  {
   "cell_type": "markdown",
   "metadata": {},
   "source": [
    "#### Count the number of elements in `tup1` and `tup2`. Then add the two counts together and check if the sum is the same as the number of elements in `tup3`."
   ]
  },
  {
   "cell_type": "code",
   "execution_count": 15,
   "metadata": {},
   "outputs": [
    {
     "name": "stdout",
     "output_type": "stream",
     "text": [
      "Number of elements in tup1: 4\n",
      "Number of elements in tup2: 4\n",
      "Sum of elements in tup1 and tup2: 8\n",
      "Number of elements in tup3: 8\n",
      "The sum of elements in tup1 and tup2 equals the number of elements in tup3.\n"
     ]
    }
   ],
   "source": [
    "# Your code here\n",
    "\n",
    "#Count the number of elements in tup1 and tup2\n",
    "count_tup1=len(tup1)\n",
    "count_tup2=len(tup2)\n",
    "\n",
    "#Add the counts\n",
    "total_count = count_tup1 + count_tup2\n",
    "\n",
    "#Count the number of elements in tup3\n",
    "count_tup3 = len(tup3)\n",
    "\n",
    "# Print the counts\n",
    "print(\"Number of elements in tup1:\", count_tup1)\n",
    "print(\"Number of elements in tup2:\", count_tup2)\n",
    "print(\"Sum of elements in tup1 and tup2:\", total_count)\n",
    "print(\"Number of elements in tup3:\", count_tup3)\n",
    "\n",
    "# Check if the sum equals the number of elements in tup3\n",
    "if total_count == count_tup3:\n",
    "    print(\"The sum of elements in tup1 and tup2 equals the number of elements in tup3.\")\n",
    "else:\n",
    "    print(\"The sum of elements in tup1 and tup2 does NOT equal the number of elements in tup3.\")"
   ]
  },
  {
   "cell_type": "markdown",
   "metadata": {},
   "source": [
    "#### What is the index number of `\"h\"` in `tup3`?"
   ]
  },
  {
   "cell_type": "code",
   "execution_count": 17,
   "metadata": {},
   "outputs": [
    {
     "name": "stdout",
     "output_type": "stream",
     "text": [
      "The index of 'h' in tup3 is 4\n"
     ]
    }
   ],
   "source": [
    "# Your code here\n",
    "\n",
    "#Find the index of \"h\" in tup3\n",
    "index_of_h = tup3.index(\"h\")\n",
    "\n",
    "#Print the index\n",
    "print(f\"The index of 'h' in tup3 is {index_of_h}\")"
   ]
  },
  {
   "cell_type": "markdown",
   "metadata": {},
   "source": [
    "#### Now, use a FOR loop to check whether each letter in the following list is present in `tup3`:\n",
    "\n",
    "```\n",
    "letters = [\"a\", \"b\", \"c\", \"d\", \"e\"]\n",
    "```\n",
    "\n",
    "For each letter you check, print `True` if it is present in `tup3` otherwise print `False`.\n",
    "\n",
    "*Hint: you only need to loop `letters`. You don't need to loop `tup3` because there is a Python operator `in` you can use. See [reference](https://stackoverflow.com/questions/17920147/how-to-check-if-a-tuple-contains-an-element-in-python).*"
   ]
  },
  {
   "cell_type": "code",
   "execution_count": 19,
   "metadata": {},
   "outputs": [
    {
     "name": "stdout",
     "output_type": "stream",
     "text": [
      "a: True\n",
      "b: False\n",
      "c: True\n",
      "d: False\n",
      "e: False\n"
     ]
    }
   ],
   "source": [
    "# Your code here\n",
    "\n",
    "# Define the list of letters to check\n",
    "letters = [\"a\", \"b\", \"c\", \"d\", \"e\"]\n",
    "\n",
    "# Loop through each letter in the list\n",
    "for letter in letters:\n",
    "    # Check if the letter is in tup3 and print the result\n",
    "    if letter in tup3:\n",
    "        print(f\"{letter}: True\")\n",
    "    else:\n",
    "        print(f\"{letter}: False\")\n"
   ]
  },
  {
   "cell_type": "markdown",
   "metadata": {},
   "source": [
    "#### How many times does each letter in `letters` appear in `tup3`?\n",
    "\n",
    "Print out the number of occurrence of each letter."
   ]
  },
  {
   "cell_type": "code",
   "execution_count": 24,
   "metadata": {},
   "outputs": [
    {
     "name": "stdout",
     "output_type": "stream",
     "text": [
      "The letter 'a' appears 1 time(s) in tup3.\n",
      "The letter 'b' appears 0 time(s) in tup3.\n",
      "The letter 'c' appears 1 time(s) in tup3.\n",
      "The letter 'd' appears 0 time(s) in tup3.\n",
      "The letter 'e' appears 0 time(s) in tup3.\n"
     ]
    }
   ],
   "source": [
    "# Your code here\n",
    "\n",
    "# Loop through each letter and count its occurrences in tup3\n",
    "for letter in letters:\n",
    "    count = tup3.count(letter)\n",
    "    print(f\"The letter '{letter}' appears {count} time(s) in tup3.\")\n"
   ]
  },
  {
   "cell_type": "markdown",
   "metadata": {},
   "source": [
    "## Challenge 2: Sets\n",
    "\n",
    "There are a lot to learn about Python Sets and the information presented in the lesson is limited due to its length. To learn Python Sets in depth you are strongly encouraged to review the W3Schools tutorial on [Python Sets Examples and Methods](https://www.w3schools.com/python/python_sets.asp) before you work on this lab. Some difficult questions in this lab have their solutions in the W3Schools tutorial.\n",
    "\n",
    "#### First, import the Python `random` library."
   ]
  },
  {
   "cell_type": "code",
   "execution_count": 26,
   "metadata": {},
   "outputs": [],
   "source": [
    "import random"
   ]
  },
  {
   "cell_type": "markdown",
   "metadata": {},
   "source": [
    "#### In the cell below, create a list named `sample_list_1` with 80 random values. \n",
    "\n",
    "Requirements:\n",
    "\n",
    "* Each value is an integer falling between 0 and 100.\n",
    "* Each value in the list is unique.\n",
    "\n",
    "Print `sample_list_1` to review its values\n",
    "\n",
    "*Hint: use `random.sample` ([reference](https://docs.python.org/3/library/random.html#random.sample)).*"
   ]
  },
  {
   "cell_type": "code",
   "execution_count": 28,
   "metadata": {},
   "outputs": [
    {
     "name": "stdout",
     "output_type": "stream",
     "text": [
      "sample_list_1: [8, 37, 96, 68, 13, 20, 3, 46, 30, 97, 72, 29, 53, 43, 93, 77, 25, 69, 2, 89, 41, 21, 70, 83, 74, 6, 22, 18, 31, 64, 1, 39, 34, 84, 78, 11, 92, 87, 80, 66, 54, 63, 17, 19, 40, 27, 15, 4, 32, 9, 49, 67, 81, 7, 94, 71, 86, 38, 23, 59, 47, 60, 45, 24, 61, 35, 82, 28, 65, 36, 57, 42, 85, 62, 58, 55, 99, 50, 14, 79]\n"
     ]
    }
   ],
   "source": [
    "# Your code here\n",
    "\n",
    "# Create a list of 80 unique random integers between 0 and 100\n",
    "sample_list_1 = random.sample(range(101), 80)  # range(101) includes numbers from 0 to 100\n",
    "\n",
    "# Print the list to review its values\n",
    "print(\"sample_list_1:\", sample_list_1)\n"
   ]
  },
  {
   "cell_type": "markdown",
   "metadata": {},
   "source": [
    "#### Convert `sample_list_1` to a set called `set1`. Print the length of the set. Is its length still 80?"
   ]
  },
  {
   "cell_type": "code",
   "execution_count": 30,
   "metadata": {},
   "outputs": [
    {
     "name": "stdout",
     "output_type": "stream",
     "text": [
      "The length of set1 is 80\n",
      "Yes, the length is still 80.\n"
     ]
    }
   ],
   "source": [
    "# your code here\n",
    "\n",
    "# Convert sample_list_1 to a set\n",
    "set1 = set(sample_list_1)\n",
    "\n",
    "# Print the length of the set\n",
    "print(f\"The length of set1 is {len(set1)}\")\n",
    "\n",
    "# Check if the length is still 80\n",
    "if len(set1) == 80:\n",
    "    print(\"Yes, the length is still 80.\")\n",
    "else:\n",
    "    print(\"No, the length is not 80.\")\n"
   ]
  },
  {
   "cell_type": "markdown",
   "metadata": {},
   "source": [
    "#### Create another list named `sample_list_2` with 80 random values.\n",
    "\n",
    "Requirements:\n",
    "\n",
    "* Each value is an integer falling between 0 and 100.\n",
    "* The values in the list don't have to be unique.\n",
    "\n",
    "*Hint: Use a FOR loop.*"
   ]
  },
  {
   "cell_type": "code",
   "execution_count": 32,
   "metadata": {},
   "outputs": [
    {
     "name": "stdout",
     "output_type": "stream",
     "text": [
      "sample_list_2: [15, 74, 50, 64, 48, 80, 2, 58, 82, 28, 61, 34, 34, 49, 23, 52, 18, 32, 55, 55, 21, 36, 32, 2, 36, 30, 40, 58, 26, 11, 15, 16, 8, 4, 94, 73, 11, 67, 1, 21, 35, 65, 97, 63, 8, 60, 19, 63, 67, 42, 9, 91, 0, 26, 51, 35, 23, 41, 50, 80, 70, 22, 79, 67, 47, 4, 74, 95, 47, 81, 9, 14, 26, 21, 48, 30, 11, 74, 48, 41]\n"
     ]
    }
   ],
   "source": [
    "# your code here\n",
    "\n",
    "import random\n",
    "\n",
    "# Create an empty list\n",
    "sample_list_2 = []\n",
    "\n",
    "# Use a for loop to add 80 random integers between 0 and 100\n",
    "for _ in range(80):\n",
    "    # random.randint() generates a random integer between 0 and 100\n",
    "    # Note: This does NOT ensure unique values, so duplicates may occur.\n",
    "    sample_list_2.append(random.randint(0, 100))\n",
    "\n",
    "# Print the list to review its values\n",
    "print(\"sample_list_2:\", sample_list_2)\n",
    "\n"
   ]
  },
  {
   "cell_type": "markdown",
   "metadata": {},
   "source": [
    "#### Convert `sample_list_2` to a set called `set2`. Print the length of the set. Is its length still 80?"
   ]
  },
  {
   "cell_type": "code",
   "execution_count": 34,
   "metadata": {},
   "outputs": [
    {
     "name": "stdout",
     "output_type": "stream",
     "text": [
      "The length of set2 is 50\n",
      "No, the length of the set2 is not 80, some duplicates were removed.\n"
     ]
    }
   ],
   "source": [
    "# Your code here\n",
    "\n",
    "# Convert sample_list_2 to a set\n",
    "set2 = set(sample_list_2)\n",
    "\n",
    "# Print the length of the set\n",
    "print(f\"The length of set2 is {len(set2)}\")\n",
    "\n",
    "# Check if the length is still 80\n",
    "if len(set2) == 80:\n",
    "    print(\"Yes, the length of set2 is still 80.\")\n",
    "else:\n",
    "    print(\"No, the length of the set2 is not 80, some duplicates were removed.\")"
   ]
  },
  {
   "cell_type": "markdown",
   "metadata": {},
   "source": [
    "#### Identify the elements present in `set1` but not in `set2`. Assign the elements to a new set named `set3`."
   ]
  },
  {
   "cell_type": "code",
   "execution_count": 36,
   "metadata": {},
   "outputs": [
    {
     "name": "stdout",
     "output_type": "stream",
     "text": [
      "Elements in set1 but not in set2: {3, 6, 7, 13, 17, 20, 24, 25, 27, 29, 31, 37, 38, 39, 43, 45, 46, 53, 54, 57, 59, 62, 66, 68, 69, 71, 72, 77, 78, 83, 84, 85, 86, 87, 89, 92, 93, 96, 99}\n"
     ]
    }
   ],
   "source": [
    "# Your code here\n",
    "\n",
    "set3 = set1 - set2\n",
    "print(\"Elements in set1 but not in set2:\", set3)"
   ]
  },
  {
   "cell_type": "markdown",
   "metadata": {},
   "source": [
    "#### Identify the elements present in `set2` but not in `set1`. Assign the elements to a new set named `set4`."
   ]
  },
  {
   "cell_type": "code",
   "execution_count": 38,
   "metadata": {},
   "outputs": [
    {
     "name": "stdout",
     "output_type": "stream",
     "text": [
      "Elements in set2 but not in set1: {0, 73, 16, 48, 51, 52, 26, 91, 95}\n"
     ]
    }
   ],
   "source": [
    "# Your code here\n",
    "\n",
    "set4 = set2 - set1\n",
    "print(\"Elements in set2 but not in set1:\", set4)\n"
   ]
  },
  {
   "cell_type": "markdown",
   "metadata": {},
   "source": [
    "#### Now Identify the elements shared between `set1` and `set2`. Assign the elements to a new set named `set5`."
   ]
  },
  {
   "cell_type": "code",
   "execution_count": 40,
   "metadata": {},
   "outputs": [
    {
     "name": "stdout",
     "output_type": "stream",
     "text": [
      "Elements shared between set1 and set2: {1, 2, 4, 8, 9, 11, 14, 15, 18, 19, 21, 22, 23, 28, 30, 32, 34, 35, 36, 40, 41, 42, 47, 49, 50, 55, 58, 60, 61, 63, 64, 65, 67, 70, 74, 79, 80, 81, 82, 94, 97}\n"
     ]
    }
   ],
   "source": [
    "# Your code here\n",
    "\n",
    "set5 = set1 & set2\n",
    "print(\"Elements shared between set1 and set2:\", set5)"
   ]
  },
  {
   "cell_type": "markdown",
   "metadata": {},
   "source": [
    "#### What is the relationship among the following values:\n",
    "\n",
    "* len(set1)\n",
    "* len(set2)\n",
    "* len(set3)\n",
    "* len(set4)\n",
    "* len(set5)\n",
    "\n",
    "Use a math formular to represent that relationship. Test your formular with Python code."
   ]
  },
  {
   "cell_type": "code",
   "execution_count": 49,
   "metadata": {},
   "outputs": [
    {
     "name": "stdout",
     "output_type": "stream",
     "text": [
      "set1 (Elements in sample_list_1):\n",
      "{1, 2, 3, 4, 6, 7, 8, 9, 11, 13, 14, 15, 17, 18, 19, 20, 21, 22, 23, 24, 25, 27, 28, 29, 30, 31, 32, 34, 35, 36, 37, 38, 39, 40, 41, 42, 43, 45, 46, 47, 49, 50, 53, 54, 55, 57, 58, 59, 60, 61, 62, 63, 64, 65, 66, 67, 68, 69, 70, 71, 72, 74, 77, 78, 79, 80, 81, 82, 83, 84, 85, 86, 87, 89, 92, 93, 94, 96, 97, 99}\n",
      "\n",
      "Length of set1: 80\n",
      "\n",
      "set2 (Elements in sample_list_2):\n",
      "{0, 1, 2, 4, 8, 9, 11, 14, 15, 16, 18, 19, 21, 22, 23, 26, 28, 30, 32, 34, 35, 36, 40, 41, 42, 47, 48, 49, 50, 51, 52, 55, 58, 60, 61, 63, 64, 65, 67, 70, 73, 74, 79, 80, 81, 82, 91, 94, 95, 97}\n",
      "\n",
      "Length of set2: 50\n",
      "\n",
      "set3 (Elements in set1 but not in set2):\n",
      "{3, 6, 7, 13, 17, 20, 24, 25, 27, 29, 31, 37, 38, 39, 43, 45, 46, 53, 54, 57, 59, 62, 66, 68, 69, 71, 72, 77, 78, 83, 84, 85, 86, 87, 89, 92, 93, 96, 99}\n",
      "\n",
      "Length of set3: 39\n",
      "\n",
      "set4 (Elements in set2 but not in set1):\n",
      "{0, 73, 16, 48, 51, 52, 26, 91, 95}\n",
      "\n",
      "Length of set4: 9\n",
      "\n",
      "set5 (Elements shared between set1 and set2):\n",
      "{1, 2, 4, 8, 9, 11, 14, 15, 18, 19, 21, 22, 23, 28, 30, 32, 34, 35, 36, 40, 41, 42, 47, 49, 50, 55, 58, 60, 61, 63, 64, 65, 67, 70, 74, 79, 80, 81, 82, 94, 97}\n",
      "\n",
      "Length of set5: 41\n"
     ]
    }
   ],
   "source": [
    "# Your code here\n",
    "\n",
    "# Set1: Elements in sample_list_1\n",
    "set1 = set(sample_list_1)\n",
    "print(\"set1 (Elements in sample_list_1):\")\n",
    "print(set1)\n",
    "print(\"\\nLength of set1:\", len(set1))\n",
    "\n",
    "# Set2: Elements in sample_list_2\n",
    "set2 = set(sample_list_2)\n",
    "print(\"\\nset2 (Elements in sample_list_2):\")\n",
    "print(set2)\n",
    "print(\"\\nLength of set2:\", len(set2))\n",
    "\n",
    "# Set3: Elements in set1 but not in set2 (set1 - set2)\n",
    "set3 = set1 - set2\n",
    "print(\"\\nset3 (Elements in set1 but not in set2):\")\n",
    "print(set3)\n",
    "print(\"\\nLength of set3:\", len(set3))\n",
    "\n",
    "# Set4: Elements in set2 but not in set1 (set2 - set1)\n",
    "set4 = set2 - set1\n",
    "print(\"\\nset4 (Elements in set2 but not in set1):\")\n",
    "print(set4)\n",
    "print(\"\\nLength of set4:\", len(set4))\n",
    "\n",
    "# Set5: Elements shared between set1 and set2 (set1 & set2)\n",
    "set5 = set1 & set2\n",
    "print(\"\\nset5 (Elements shared between set1 and set2):\")\n",
    "print(set5)\n",
    "print(\"\\nLength of set5:\", len(set5))"
   ]
  },
  {
   "cell_type": "code",
   "execution_count": 52,
   "metadata": {},
   "outputs": [
    {
     "name": "stdout",
     "output_type": "stream",
     "text": [
      "\n",
      "Verifying Mathematical Relationships:\n",
      "Relationship 1 (len(set1) == len(set3) + len(set5)): True\n",
      "Relationship 2 (len(set2) == len(set4) + len(set5)): True\n",
      "Relationship 3 (len(set1) + len(set2) == len(set3) + len(set4) + 2 * len(set5)): True\n"
     ]
    }
   ],
   "source": [
    "# Verify the mathematical relationships\n",
    "print(\"\\nVerifying Mathematical Relationships:\")\n",
    "\n",
    "# Formula: len(set1) = len(set3) + len(set5)\n",
    "relationship_1 = len(set1) == len(set3) + len(set5)\n",
    "print(\"Relationship 1 (len(set1) == len(set3) + len(set5)):\", relationship_1)\n",
    "\n",
    "# Formula: len(set2) = len(set4) + len(set5)\n",
    "relationship_2 = len(set2) == len(set4) + len(set5)\n",
    "print(\"Relationship 2 (len(set2) == len(set4) + len(set5)):\", relationship_2)\n",
    "\n",
    "# Formula: len(set1) + len(set2) = len(set3) + len(set4) + 2 * len(set5)\n",
    "relationship_3 = len(set1) + len(set2) == len(set3) + len(set4) + 2 * len(set5)\n",
    "print(\"Relationship 3 (len(set1) + len(set2) == len(set3) + len(set4) + 2 * len(set5)):\", relationship_3)"
   ]
  },
  {
   "cell_type": "markdown",
   "metadata": {},
   "source": [
    "#### Create an empty set called `set6`."
   ]
  },
  {
   "cell_type": "code",
   "execution_count": 56,
   "metadata": {},
   "outputs": [],
   "source": [
    "# Your code here\n",
    "\n",
    "# Create an empty set called set6\n",
    "set6 = set()"
   ]
  },
  {
   "cell_type": "markdown",
   "metadata": {},
   "source": [
    "#### Add `set3` and `set5` to `set6` using the Python Set `update` method."
   ]
  },
  {
   "cell_type": "code",
   "execution_count": 58,
   "metadata": {},
   "outputs": [
    {
     "name": "stdout",
     "output_type": "stream",
     "text": [
      "set6 (After adding set3 and set5): {1, 2, 3, 4, 6, 7, 8, 9, 11, 13, 14, 15, 17, 18, 19, 20, 21, 22, 23, 24, 25, 27, 28, 29, 30, 31, 32, 34, 35, 36, 37, 38, 39, 40, 41, 42, 43, 45, 46, 47, 49, 50, 53, 54, 55, 57, 58, 59, 60, 61, 62, 63, 64, 65, 66, 67, 68, 69, 70, 71, 72, 74, 77, 78, 79, 80, 81, 82, 83, 84, 85, 86, 87, 89, 92, 93, 94, 96, 97, 99}\n"
     ]
    }
   ],
   "source": [
    "# Your code here\n",
    "\n",
    "# Update method adds all elements from the sets set3 and set5 to set6.\n",
    "set6.update(set3, set5)\n",
    "print(f\"set6 (After adding set3 and set5): {set6}\")"
   ]
  },
  {
   "cell_type": "markdown",
   "metadata": {},
   "source": [
    "#### Check if `set1` and `set6` are equal."
   ]
  },
  {
   "cell_type": "code",
   "execution_count": 61,
   "metadata": {},
   "outputs": [
    {
     "name": "stdout",
     "output_type": "stream",
     "text": [
      "set1 and set6 are equal.\n"
     ]
    }
   ],
   "source": [
    "# Your code here\n",
    "\n",
    "if set1 == set6:\n",
    "    print(\"set1 and set6 are equal.\")\n",
    "else:\n",
    "    print(\"set1 and set6 are not equal.\")"
   ]
  },
  {
   "cell_type": "markdown",
   "metadata": {},
   "source": [
    "#### Check if `set1` contains `set2` using the Python Set `issubset` method. Then check if `set1` contains `set3`.*"
   ]
  },
  {
   "cell_type": "code",
   "execution_count": 66,
   "metadata": {},
   "outputs": [
    {
     "name": "stdout",
     "output_type": "stream",
     "text": [
      "set1 does not contain set2 (set2 is not a subset of set1).\n",
      "set1 contains set3 (set3 is a subset of set1).\n"
     ]
    }
   ],
   "source": [
    "# Your code here\n",
    "\n",
    "#issubset method checks whether all elements of one set are contained within another\n",
    "\n",
    "# Check if set1 contains set2\n",
    "if set2.issubset(set1):\n",
    "    print(\"set1 contains set2 (set2 is a subset of set1).\")\n",
    "else:\n",
    "    print(\"set1 does not contain set2 (set2 is not a subset of set1).\")\n",
    "\n",
    "# Check if set1 contains set3\n",
    "if set3.issubset(set1):\n",
    "    print(\"set1 contains set3 (set3 is a subset of set1).\")\n",
    "else:\n",
    "    print(\"set1 does not contain set3 (set3 is not a subset of set1).\")"
   ]
  },
  {
   "cell_type": "markdown",
   "metadata": {},
   "source": [
    "#### Using the Python Set `union` method, aggregate `set3`, `set4`, and `set5`. Then aggregate `set1` and `set2`. \n",
    "\n",
    "#### Check if the aggregated values are equal."
   ]
  },
  {
   "cell_type": "code",
   "execution_count": 68,
   "metadata": {},
   "outputs": [
    {
     "name": "stdout",
     "output_type": "stream",
     "text": [
      "The aggregated sets are equal.\n"
     ]
    }
   ],
   "source": [
    "# Your code here\n",
    "\n",
    "#The union() method is used to combin the elements of sets\n",
    "\n",
    "# Aggregate set3, set4, and set5\n",
    "union_set3_set4_set5 = set3.union(set4, set5)\n",
    "\n",
    "# Aggregate set1 and set2\n",
    "union_set1_set2 = set1.union(set2)\n",
    "\n",
    "# Check if the aggregated values are equal\n",
    "if union_set3_set4_set5 == union_set1_set2:\n",
    "    print(\"The aggregated sets are equal.\")\n",
    "else:\n",
    "    print(\"The aggregated sets are not equal.\")"
   ]
  },
  {
   "cell_type": "markdown",
   "metadata": {},
   "source": [
    "#### Using the `pop` method, remove the first element from `set1`."
   ]
  },
  {
   "cell_type": "code",
   "execution_count": 71,
   "metadata": {},
   "outputs": [
    {
     "name": "stdout",
     "output_type": "stream",
     "text": [
      "set1: {1, 2, 3, 4, 6, 7, 8, 9, 11, 13, 14, 15, 17, 18, 19, 20, 21, 22, 23, 24, 25, 27, 28, 29, 30, 31, 32, 34, 35, 36, 37, 38, 39, 40, 41, 42, 43, 45, 46, 47, 49, 50, 53, 54, 55, 57, 58, 59, 60, 61, 62, 63, 64, 65, 66, 67, 68, 69, 70, 71, 72, 74, 77, 78, 79, 80, 81, 82, 83, 84, 85, 86, 87, 89, 92, 93, 94, 96, 97, 99}\n",
      "\n",
      "Removed element from set1 using pop: 1\n",
      "\n",
      "set1 after pop: {2, 3, 4, 6, 7, 8, 9, 11, 13, 14, 15, 17, 18, 19, 20, 21, 22, 23, 24, 25, 27, 28, 29, 30, 31, 32, 34, 35, 36, 37, 38, 39, 40, 41, 42, 43, 45, 46, 47, 49, 50, 53, 54, 55, 57, 58, 59, 60, 61, 62, 63, 64, 65, 66, 67, 68, 69, 70, 71, 72, 74, 77, 78, 79, 80, 81, 82, 83, 84, 85, 86, 87, 89, 92, 93, 94, 96, 97, 99}\n"
     ]
    }
   ],
   "source": [
    "# Your code here\n",
    "\n",
    "# print set 1\n",
    "print(f\"set1: {set1}\")\n",
    "\n",
    "# pop() method removes and returns a random element\n",
    "# Note: Since sets are unordered, we cannot guarantee the \"first\" element, but we'll remove a random element.\n",
    "removed_element = set1.pop()\n",
    "print(f\"\\nRemoved element from set1 using pop: {removed_element}\")\n",
    "print(f\"\\nset1 after pop: {set1}\")"
   ]
  },
  {
   "cell_type": "markdown",
   "metadata": {},
   "source": [
    "#### Remove every element in the following list from `set1` if they are present in the set. Print the remaining elements.\n",
    "\n",
    "```\n",
    "list_to_remove = [1, 9, 11, 19, 21, 29, 31, 39, 41, 49, 51, 59, 61, 69, 71, 79, 81, 89, 91, 99]\n",
    "```"
   ]
  },
  {
   "cell_type": "code",
   "execution_count": 83,
   "metadata": {},
   "outputs": [
    {
     "name": "stdout",
     "output_type": "stream",
     "text": [
      "set1: {2, 3, 4, 6, 7, 8, 13, 14, 15, 17, 18, 20, 22, 23, 24, 25, 27, 28, 30, 32, 34, 35, 36, 37, 38, 40, 42, 43, 45, 46, 47, 50, 53, 54, 55, 57, 58, 60, 62, 63, 64, 65, 66, 67, 68, 70, 72, 74, 77, 78, 80, 82, 83, 84, 85, 86, 87, 92, 93, 94, 96, 97}\n",
      "\n",
      "Elements to remove: [1, 9, 11, 19, 21, 29, 31, 39, 41, 49, 51, 59, 61, 69, 71, 79, 81, 89, 91, 99]\n",
      "\n",
      "set1 after removing elements from elements_to_remove_list: {2, 3, 4, 6, 7, 8, 13, 14, 15, 17, 18, 20, 22, 23, 24, 25, 27, 28, 30, 32, 34, 35, 36, 37, 38, 40, 42, 43, 45, 46, 47, 50, 53, 54, 55, 57, 58, 60, 62, 63, 64, 65, 66, 67, 68, 70, 72, 74, 77, 78, 80, 82, 83, 84, 85, 86, 87, 92, 93, 94, 96, 97}\n"
     ]
    }
   ],
   "source": [
    "# Your code here\n",
    "\n",
    "# Print set 1\n",
    "print(f\"set1: {set1}\")\n",
    "\n",
    "# Elements to remove\n",
    "elements_to_remove_list = [1, 9, 11, 19, 21, 29, 31, 39, 41, 49, 51, 59, 61, 69, 71, 79, 81, 89, 91, 99]\n",
    "print(f\"\\nElements to remove: {elements_to_remove}\")\n",
    "\n",
    "\n",
    "# Operator -= removes the elements in list_to_remove from set1\n",
    "set1 -= set(elements_to_remove_list)\n",
    "print(f\"\\nset1 after removing elements from elements_to_remove_list: {set1}\")"
   ]
  },
  {
   "cell_type": "markdown",
   "metadata": {},
   "source": [
    "## BONUS - Challenge 3: Dictionaries\n",
    "\n",
    "In this challenge you will practice how to manipulate Python dictionaries. Before starting on this challenge, you are encouraged to review W3School's [Python Dictionary Examples and Methods](https://www.w3schools.com/python/python_dictionaries.asp).\n",
    "\n",
    "First thing you will practice is how to sort the keys in a dictionary. Unlike the list object, Python dictionary does not have a built-in *sort* method. You'll need to use FOR loops to to sort dictionaries either by key or by value.\n",
    "\n",
    "The dictionary below is a summary of the word frequency of Ed Sheeran's song *Shape of You*. Each key is a word in the lyrics and the value is the number of times that word appears in the lyrics."
   ]
  },
  {
   "cell_type": "code",
   "execution_count": 85,
   "metadata": {},
   "outputs": [],
   "source": [
    "word_freq = {'love': 25, 'conversation': 1, 'every': 6, \"we're\": 1, 'plate': 1, 'sour': 1, 'jukebox': 1, 'now': 11, 'taxi': 1, 'fast': 1, 'bag': 1, 'man': 1, 'push': 3, 'baby': 14, 'going': 1, 'you': 16, \"don't\": 2, 'one': 1, 'mind': 2, 'backseat': 1, 'friends': 1, 'then': 3, 'know': 2, 'take': 1, 'play': 1, 'okay': 1, 'so': 2, 'begin': 1, 'start': 2, 'over': 1, 'body': 17, 'boy': 2, 'just': 1, 'we': 7, 'are': 1, 'girl': 2, 'tell': 1, 'singing': 2, 'drinking': 1, 'put': 3, 'our': 1, 'where': 1, \"i'll\": 1, 'all': 1, \"isn't\": 1, 'make': 1, 'lover': 1, 'get': 1, 'radio': 1, 'give': 1, \"i'm\": 23, 'like': 10, 'can': 1, 'doing': 2, 'with': 22, 'club': 1, 'come': 37, 'it': 1, 'somebody': 2, 'handmade': 2, 'out': 1, 'new': 6, 'room': 3, 'chance': 1, 'follow': 6, 'in': 27, 'may': 2, 'brand': 6, 'that': 2, 'magnet': 3, 'up': 3, 'first': 1, 'and': 23, 'pull': 3, 'of': 6, 'table': 1, 'much': 2, 'last': 3, 'i': 6, 'thrifty': 1, 'grab': 2, 'was': 2, 'driver': 1, 'slow': 1, 'dance': 1, 'the': 18, 'say': 2, 'trust': 1, 'family': 1, 'week': 1, 'date': 1, 'me': 10, 'do': 3, 'waist': 2, 'smell': 3, 'day': 6, 'although': 3, 'your': 21, 'leave': 1, 'want': 2, \"let's\": 2, 'lead': 6, 'at': 1, 'hand': 1, 'how': 1, 'talk': 4, 'not': 2, 'eat': 1, 'falling': 3, 'about': 1, 'story': 1, 'sweet': 1, 'best': 1, 'crazy': 2, 'let': 1, 'too': 5, 'van': 1, 'shots': 1, 'go': 2, 'to': 2, 'a': 8, 'my': 33, 'is': 5, 'place': 1, 'find': 1, 'shape': 6, 'on': 40, 'kiss': 1, 'were': 3, 'night': 3, 'heart': 3, 'for': 3, 'discovering': 6, 'something': 6, 'be': 16, 'bedsheets': 3, 'fill': 2, 'hours': 2, 'stop': 1, 'bar': 1}"
   ]
  },
  {
   "cell_type": "markdown",
   "metadata": {},
   "source": [
    "#### Sort the keys of `word_freq` ascendingly.\n",
    "\n",
    "Please create a new dictionary called `word_freq2` based on `word_freq` with the keys sorted ascedingly.\n",
    "\n",
    "There are several ways to achieve that goal but many of the ways are beyond what we have covered so far in the course. There is one way that we'll describe employing what you have learned. Please feel free to use this way or any other way you want.\n",
    "\n",
    "1. First extract the keys of `word_freq` and convert it to a list called `keys`.\n",
    "\n",
    "1. Sort the `keys` list.\n",
    "\n",
    "1. Create an empty dictionary `word_freq2`.\n",
    "\n",
    "1. Use a FOR loop to iterate each value in `keys`. For each key iterated, find the corresponding value in `word_freq` and insert the key-value pair to `word_freq2`.\n",
    "\n",
    "📖 [Documentation for a for loop](https://docs.python.org/3/reference/compound_stmts.html#for)\n",
    "\n",
    "Print out `word_freq2` to examine its keys and values. Your output should be:\n",
    "\n",
    "```python\n",
    "{'a': 8, 'about': 1, 'all': 1, 'although': 3, 'and': 23, 'are': 1, 'at': 1, 'baby': 14, 'backseat': 1, 'bag': 1, 'bar': 1, 'be': 16, 'bedsheets': 3, 'begin': 1, 'best': 1, 'body': 17, 'boy': 2, 'brand': 6, 'can': 1, 'chance': 1, 'club': 1, 'come': 37, 'conversation': 1, 'crazy': 2, 'dance': 1, 'date': 1, 'day': 6, 'discovering': 6, 'do': 3, 'doing': 2, \"don't\": 2, 'drinking': 1, 'driver': 1, 'eat': 1, 'every': 6, 'falling': 3, 'family': 1, 'fast': 1, 'fill': 2, 'find': 1, 'first': 1, 'follow': 6, 'for': 3, 'friends': 1, 'get': 1, 'girl': 2, 'give': 1, 'go': 2, 'going': 1, 'grab': 2, 'hand': 1, 'handmade': 2, 'heart': 3, 'hours': 2, 'how': 1, 'i': 6, \"i'll\": 1, \"i'm\": 23, 'in': 27, 'is': 5, \"isn't\": 1, 'it': 1, 'jukebox': 1, 'just': 1, 'kiss': 1, 'know': 2, 'last': 3, 'lead': 6, 'leave': 1, 'let': 1, \"let's\": 2, 'like': 10, 'love': 25, 'lover': 1, 'magnet': 3, 'make': 1, 'man': 1, 'may': 2, 'me': 10, 'mind': 2, 'much': 2, 'my': 33, 'new': 6, 'night': 3, 'not': 2, 'now': 11, 'of': 6, 'okay': 1, 'on': 40, 'one': 1, 'our': 1, 'out': 1, 'over': 1, 'place': 1, 'plate': 1, 'play': 1, 'pull': 3, 'push': 3, 'put': 3, 'radio': 1, 'room': 3, 'say': 2, 'shape': 6, 'shots': 1, 'singing': 2, 'slow': 1, 'smell': 3, 'so': 2, 'somebody': 2, 'something': 6, 'sour': 1, 'start': 2, 'stop': 1, 'story': 1, 'sweet': 1, 'table': 1, 'take': 1, 'talk': 4, 'taxi': 1, 'tell': 1, 'that': 2, 'the': 18, 'then': 3, 'thrifty': 1, 'to': 2, 'too': 5, 'trust': 1, 'up': 3, 'van': 1, 'waist': 2, 'want': 2, 'was': 2, 'we': 7, \"we're\": 1, 'week': 1, 'were': 3, 'where': 1, 'with': 22, 'you': 16, 'your': 21}\n",
    "```"
   ]
  },
  {
   "cell_type": "code",
   "execution_count": 92,
   "metadata": {},
   "outputs": [
    {
     "name": "stdout",
     "output_type": "stream",
     "text": [
      "\n",
      "word_freq dictionary:\n",
      "{'love': 25, 'conversation': 1, 'every': 6, \"we're\": 1, 'plate': 1, 'sour': 1, 'jukebox': 1, 'now': 11, 'taxi': 1, 'fast': 1, 'bag': 1, 'man': 1, 'push': 3, 'baby': 14, 'going': 1, 'you': 16, \"don't\": 2, 'one': 1, 'mind': 2, 'backseat': 1, 'friends': 1, 'then': 3, 'know': 2, 'take': 1, 'play': 1, 'okay': 1, 'so': 2, 'begin': 1, 'start': 2, 'over': 1, 'body': 17, 'boy': 2, 'just': 1, 'we': 7, 'are': 1, 'girl': 2, 'tell': 1, 'singing': 2, 'drinking': 1, 'put': 3, 'our': 1, 'where': 1, \"i'll\": 1, 'all': 1, \"isn't\": 1, 'make': 1, 'lover': 1, 'get': 1, 'radio': 1, 'give': 1, \"i'm\": 23, 'like': 10, 'can': 1, 'doing': 2, 'with': 22, 'club': 1, 'come': 37, 'it': 1, 'somebody': 2, 'handmade': 2, 'out': 1, 'new': 6, 'room': 3, 'chance': 1, 'follow': 6, 'in': 27, 'may': 2, 'brand': 6, 'that': 2, 'magnet': 3, 'up': 3, 'first': 1, 'and': 23, 'pull': 3, 'of': 6, 'table': 1, 'much': 2, 'last': 3, 'i': 6, 'thrifty': 1, 'grab': 2, 'was': 2, 'driver': 1, 'slow': 1, 'dance': 1, 'the': 18, 'say': 2, 'trust': 1, 'family': 1, 'week': 1, 'date': 1, 'me': 10, 'do': 3, 'waist': 2, 'smell': 3, 'day': 6, 'although': 3, 'your': 21, 'leave': 1, 'want': 2, \"let's\": 2, 'lead': 6, 'at': 1, 'hand': 1, 'how': 1, 'talk': 4, 'not': 2, 'eat': 1, 'falling': 3, 'about': 1, 'story': 1, 'sweet': 1, 'best': 1, 'crazy': 2, 'let': 1, 'too': 5, 'van': 1, 'shots': 1, 'go': 2, 'to': 2, 'a': 8, 'my': 33, 'is': 5, 'place': 1, 'find': 1, 'shape': 6, 'on': 40, 'kiss': 1, 'were': 3, 'night': 3, 'heart': 3, 'for': 3, 'discovering': 6, 'something': 6, 'be': 16, 'bedsheets': 3, 'fill': 2, 'hours': 2, 'stop': 1, 'bar': 1}\n",
      "\n",
      "word_freq2 dictionary:\n",
      "{'a': 8, 'about': 1, 'all': 1, 'although': 3, 'and': 23, 'are': 1, 'at': 1, 'baby': 14, 'backseat': 1, 'bag': 1, 'bar': 1, 'be': 16, 'bedsheets': 3, 'begin': 1, 'best': 1, 'body': 17, 'boy': 2, 'brand': 6, 'can': 1, 'chance': 1, 'club': 1, 'come': 37, 'conversation': 1, 'crazy': 2, 'dance': 1, 'date': 1, 'day': 6, 'discovering': 6, 'do': 3, 'doing': 2, \"don't\": 2, 'drinking': 1, 'driver': 1, 'eat': 1, 'every': 6, 'falling': 3, 'family': 1, 'fast': 1, 'fill': 2, 'find': 1, 'first': 1, 'follow': 6, 'for': 3, 'friends': 1, 'get': 1, 'girl': 2, 'give': 1, 'go': 2, 'going': 1, 'grab': 2, 'hand': 1, 'handmade': 2, 'heart': 3, 'hours': 2, 'how': 1, 'i': 6, \"i'll\": 1, \"i'm\": 23, 'in': 27, 'is': 5, \"isn't\": 1, 'it': 1, 'jukebox': 1, 'just': 1, 'kiss': 1, 'know': 2, 'last': 3, 'lead': 6, 'leave': 1, 'let': 1, \"let's\": 2, 'like': 10, 'love': 25, 'lover': 1, 'magnet': 3, 'make': 1, 'man': 1, 'may': 2, 'me': 10, 'mind': 2, 'much': 2, 'my': 33, 'new': 6, 'night': 3, 'not': 2, 'now': 11, 'of': 6, 'okay': 1, 'on': 40, 'one': 1, 'our': 1, 'out': 1, 'over': 1, 'place': 1, 'plate': 1, 'play': 1, 'pull': 3, 'push': 3, 'put': 3, 'radio': 1, 'room': 3, 'say': 2, 'shape': 6, 'shots': 1, 'singing': 2, 'slow': 1, 'smell': 3, 'so': 2, 'somebody': 2, 'something': 6, 'sour': 1, 'start': 2, 'stop': 1, 'story': 1, 'sweet': 1, 'table': 1, 'take': 1, 'talk': 4, 'taxi': 1, 'tell': 1, 'that': 2, 'the': 18, 'then': 3, 'thrifty': 1, 'to': 2, 'too': 5, 'trust': 1, 'up': 3, 'van': 1, 'waist': 2, 'want': 2, 'was': 2, 'we': 7, \"we're\": 1, 'week': 1, 'were': 3, 'where': 1, 'with': 22, 'you': 16, 'your': 21}\n"
     ]
    }
   ],
   "source": [
    "# Your code here\n",
    "\n",
    "# Print the word_freq dictionary\n",
    "print(f\"\\nword_freq dictionary:\")\n",
    "print(word_freq)\n",
    "\n",
    "# Extracting the keys and sorting them\n",
    "keys = list(word_freq.keys())\n",
    "keys.sort()\n",
    "\n",
    "# Create a new dictionary with sorted keys\n",
    "word_freq2 = {}  # Initialize an empty dictionary to store the sorted key-value pairs\n",
    "\n",
    "# Loop through each key in the sorted `keys` list\n",
    "for key in keys:\n",
    "    # For each key, retrieve its corresponding value from the original dictionary `word_freq`\n",
    "    # and add the key-value pair to the new dictionary `word_freq2`\n",
    "    word_freq2[key] = word_freq[key]\n",
    "\n",
    "# Print the sorted dictionary\n",
    "print(f\"\\nword_freq2 dictionary:\")\n",
    "print(word_freq2)"
   ]
  },
  {
   "cell_type": "markdown",
   "metadata": {},
   "source": [
    "#### Sort the values of `word_freq` ascendingly.\n",
    "\n",
    "Sorting the values of a dictionary is more tricky than sorting the keys because a dictionary's values are not unique. Therefore you cannot use the same way you sorted dict keys to sort dict values.\n",
    "\n",
    "The way to sort a dict by value is to utilize the `sorted` and `operator.itemgetter` functions. The following code snippet is provided to you to try. It will give you a list of tuples in which each tuple contains the key and value of a dict item. And the list is sorted based on the dict value ( [reference](http://thomas-cokelaer.info/blog/2017/12/how-to-sort-a-dictionary-by-values-in-python/)\n",
    ").\n",
    "\n",
    "```python\n",
    "import operator\n",
    "sorted_tups = sorted(word_freq.items(), key=operator.itemgetter(1))\n",
    "print(sorted_tups)\n",
    "```\n",
    "\n",
    "Therefore, the steps to sort `word_freq` by value are:\n",
    "\n",
    "* Using `sorted` and `operator.itemgetter`, obtain a list of tuples of the dict key-value pairs which is sorted on the value.\n",
    "\n",
    "* Create an empty dictionary named `word_freq2`.\n",
    "\n",
    "* Iterate the list of tuples. Insert each key-value pair into `word_freq2` as an object.\n",
    "\n",
    "Print `word_freq2` to confirm your dictionary has its values sorted. Your output should be:\n",
    "\n",
    "```python\n",
    "{'conversation': 1, \"we're\": 1, 'plate': 1, 'sour': 1, 'jukebox': 1, 'taxi': 1, 'fast': 1, 'bag': 1, 'man': 1, 'going': 1, 'one': 1, 'backseat': 1, 'friends': 1, 'take': 1, 'play': 1, 'okay': 1, 'begin': 1, 'over': 1, 'just': 1, 'are': 1, 'tell': 1, 'drinking': 1, 'our': 1, 'where': 1, \"i'll\": 1, 'all': 1, \"isn't\": 1, 'make': 1, 'lover': 1, 'get': 1, 'radio': 1, 'give': 1, 'can': 1, 'club': 1, 'it': 1, 'out': 1, 'chance': 1, 'first': 1, 'table': 1, 'thrifty': 1, 'driver': 1, 'slow': 1, 'dance': 1, 'trust': 1, 'family': 1, 'week': 1, 'date': 1, 'leave': 1, 'at': 1, 'hand': 1, 'how': 1, 'eat': 1, 'about': 1, 'story': 1, 'sweet': 1, 'best': 1, 'let': 1, 'van': 1, 'shots': 1, 'place': 1, 'find': 1, 'kiss': 1, 'stop': 1, 'bar': 1, \"don't\": 2, 'mind': 2, 'know': 2, 'so': 2, 'start': 2, 'boy': 2, 'girl': 2, 'singing': 2, 'doing': 2, 'somebody': 2, 'handmade': 2, 'may': 2, 'that': 2, 'much': 2, 'grab': 2, 'was': 2, 'say': 2, 'waist': 2, 'want': 2, \"let's\": 2, 'not': 2, 'crazy': 2, 'go': 2, 'to': 2, 'fill': 2, 'hours': 2, 'push': 3, 'then': 3, 'put': 3, 'room': 3, 'magnet': 3, 'up': 3, 'pull': 3, 'last': 3, 'do': 3, 'smell': 3, 'although': 3, 'falling': 3, 'were': 3, 'night': 3, 'heart': 3, 'for': 3, 'bedsheets': 3, 'talk': 4, 'too': 5, 'is': 5, 'every': 6, 'new': 6, 'follow': 6, 'brand': 6, 'of': 6, 'i': 6, 'day': 6, 'lead': 6, 'shape': 6, 'discovering': 6, 'something': 6, 'we': 7, 'a': 8, 'like': 10, 'me': 10, 'now': 11, 'baby': 14, 'you': 16, 'be': 16, 'body': 17, 'the': 18, 'your': 21, 'with': 22, \"i'm\": 23, 'and': 23, 'love': 25, 'in': 27, 'my': 33, 'come': 37, 'on': 40}\n",
    "```"
   ]
  },
  {
   "cell_type": "code",
   "execution_count": 96,
   "metadata": {},
   "outputs": [
    {
     "name": "stdout",
     "output_type": "stream",
     "text": [
      "word_freq dictionary:\n",
      "{'love': 25, 'conversation': 1, 'every': 6, \"we're\": 1, 'plate': 1, 'sour': 1, 'jukebox': 1, 'now': 11, 'taxi': 1, 'fast': 1, 'bag': 1, 'man': 1, 'push': 3, 'baby': 14, 'going': 1, 'you': 16, \"don't\": 2, 'one': 1, 'mind': 2, 'backseat': 1, 'friends': 1, 'then': 3, 'know': 2, 'take': 1, 'play': 1, 'okay': 1, 'so': 2, 'begin': 1, 'start': 2, 'over': 1, 'body': 17, 'boy': 2, 'just': 1, 'we': 7, 'are': 1, 'girl': 2, 'tell': 1, 'singing': 2, 'drinking': 1, 'put': 3, 'our': 1, 'where': 1, \"i'll\": 1, 'all': 1, \"isn't\": 1, 'make': 1, 'lover': 1, 'get': 1, 'radio': 1, 'give': 1, \"i'm\": 23, 'like': 10, 'can': 1, 'doing': 2, 'with': 22, 'club': 1, 'come': 37, 'it': 1, 'somebody': 2, 'handmade': 2, 'out': 1, 'new': 6, 'room': 3, 'chance': 1, 'follow': 6, 'in': 27, 'may': 2, 'brand': 6, 'that': 2, 'magnet': 3, 'up': 3, 'first': 1, 'and': 23, 'pull': 3, 'of': 6, 'table': 1, 'much': 2, 'last': 3, 'i': 6, 'thrifty': 1, 'grab': 2, 'was': 2, 'driver': 1, 'slow': 1, 'dance': 1, 'the': 18, 'say': 2, 'trust': 1, 'family': 1, 'week': 1, 'date': 1, 'me': 10, 'do': 3, 'waist': 2, 'smell': 3, 'day': 6, 'although': 3, 'your': 21, 'leave': 1, 'want': 2, \"let's\": 2, 'lead': 6, 'at': 1, 'hand': 1, 'how': 1, 'talk': 4, 'not': 2, 'eat': 1, 'falling': 3, 'about': 1, 'story': 1, 'sweet': 1, 'best': 1, 'crazy': 2, 'let': 1, 'too': 5, 'van': 1, 'shots': 1, 'go': 2, 'to': 2, 'a': 8, 'my': 33, 'is': 5, 'place': 1, 'find': 1, 'shape': 6, 'on': 40, 'kiss': 1, 'were': 3, 'night': 3, 'heart': 3, 'for': 3, 'discovering': 6, 'something': 6, 'be': 16, 'bedsheets': 3, 'fill': 2, 'hours': 2, 'stop': 1, 'bar': 1}\n",
      "\n",
      "word_freq2 dictionary:\n",
      "{'conversation': 1, \"we're\": 1, 'plate': 1, 'sour': 1, 'jukebox': 1, 'taxi': 1, 'fast': 1, 'bag': 1, 'man': 1, 'going': 1, 'one': 1, 'backseat': 1, 'friends': 1, 'take': 1, 'play': 1, 'okay': 1, 'begin': 1, 'over': 1, 'just': 1, 'are': 1, 'tell': 1, 'drinking': 1, 'our': 1, 'where': 1, \"i'll\": 1, 'all': 1, \"isn't\": 1, 'make': 1, 'lover': 1, 'get': 1, 'radio': 1, 'give': 1, 'can': 1, 'club': 1, 'it': 1, 'out': 1, 'chance': 1, 'first': 1, 'table': 1, 'thrifty': 1, 'driver': 1, 'slow': 1, 'dance': 1, 'trust': 1, 'family': 1, 'week': 1, 'date': 1, 'leave': 1, 'at': 1, 'hand': 1, 'how': 1, 'eat': 1, 'about': 1, 'story': 1, 'sweet': 1, 'best': 1, 'let': 1, 'van': 1, 'shots': 1, 'place': 1, 'find': 1, 'kiss': 1, 'stop': 1, 'bar': 1, \"don't\": 2, 'mind': 2, 'know': 2, 'so': 2, 'start': 2, 'boy': 2, 'girl': 2, 'singing': 2, 'doing': 2, 'somebody': 2, 'handmade': 2, 'may': 2, 'that': 2, 'much': 2, 'grab': 2, 'was': 2, 'say': 2, 'waist': 2, 'want': 2, \"let's\": 2, 'not': 2, 'crazy': 2, 'go': 2, 'to': 2, 'fill': 2, 'hours': 2, 'push': 3, 'then': 3, 'put': 3, 'room': 3, 'magnet': 3, 'up': 3, 'pull': 3, 'last': 3, 'do': 3, 'smell': 3, 'although': 3, 'falling': 3, 'were': 3, 'night': 3, 'heart': 3, 'for': 3, 'bedsheets': 3, 'talk': 4, 'too': 5, 'is': 5, 'every': 6, 'new': 6, 'follow': 6, 'brand': 6, 'of': 6, 'i': 6, 'day': 6, 'lead': 6, 'shape': 6, 'discovering': 6, 'something': 6, 'we': 7, 'a': 8, 'like': 10, 'me': 10, 'now': 11, 'baby': 14, 'you': 16, 'be': 16, 'body': 17, 'the': 18, 'your': 21, 'with': 22, \"i'm\": 23, 'and': 23, 'love': 25, 'in': 27, 'my': 33, 'come': 37, 'on': 40}\n"
     ]
    }
   ],
   "source": [
    "# Your code here\n",
    "\n",
    "# Print the word_freq dictionary\n",
    "print(f\"word_freq dictionary:\")\n",
    "print(word_freq)\n",
    "\n",
    "# Import the operator module to use itemgetter for sorting\n",
    "import operator\n",
    "\n",
    "# Sort the dictionary by value and get a list of tuples\n",
    "# word_freq.items() returns a view of key-value pairs in the dictionary.\n",
    "# sorted() sorts these pairs based on the value (index 1 of each tuple) using operator.itemgetter(1).\n",
    "sorted_tups = sorted(word_freq.items(), key=operator.itemgetter(1))\n",
    "\n",
    "# Create a new dictionary and populate it with the sorted tuples\n",
    "# Initialize an empty dictionary\n",
    "word_freq2 = {}\n",
    "# Loop through each tuple in the sorted list\n",
    "for key, value in sorted_tups:\n",
    "    # Add the key-value pair to the new dictionary\n",
    "    word_freq2[key] = value\n",
    "\n",
    "# Print the sorted dictionary\n",
    "print(f\"\\nword_freq2 dictionary:\")\n",
    "print(word_freq2)"
   ]
  }
 ],
 "metadata": {
  "kernelspec": {
   "display_name": "Python [conda env:base] *",
   "language": "python",
   "name": "conda-base-py"
  },
  "language_info": {
   "codemirror_mode": {
    "name": "ipython",
    "version": 3
   },
   "file_extension": ".py",
   "mimetype": "text/x-python",
   "name": "python",
   "nbconvert_exporter": "python",
   "pygments_lexer": "ipython3",
   "version": "3.12.7"
  },
  "vscode": {
   "interpreter": {
    "hash": "aee8b7b246df8f9039afb4144a1f6fd8d2ca17a180786b69acc140d282b71a49"
   }
  }
 },
 "nbformat": 4,
 "nbformat_minor": 4
}
